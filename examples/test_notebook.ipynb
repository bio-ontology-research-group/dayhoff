{
 "cells": [
  {
   "cell_type": "markdown",
   "metadata": {},
   "source": [
    "# Dayhoff Notebook Test\n",
    "\n",
    "This notebook demonstrates basic usage of the Dayhoff kernel."
   ]
  },
  {
   "cell_type": "code",
   "execution_count": null,
   "metadata": {},
   "outputs": [],
   "source": [
    "# Example command\n",
    "print('Hello from Dayhoff kernel')"
   ]
  }
 ],
 "metadata": {
  "kernelspec": {
   "display_name": "Dayhoff",
   "language": "dayhoff",
   "name": "dayhoff"
  },
  "language_info": {
   "name": "dayhoff"
  }
 },
 "nbformat": 4,
 "nbformat_minor": 4
}
